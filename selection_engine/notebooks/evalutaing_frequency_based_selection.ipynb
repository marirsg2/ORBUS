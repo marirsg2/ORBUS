{
 "cells": [
  {
   "cell_type": "code",
   "execution_count": 3,
   "metadata": {
    "collapsed": true,
    "pycharm": {
     "is_executing": false
    }
   },
   "outputs": [],
   "source": [
    "# First, create a whole backlog of plans. Each index corresponds to a S-1 feature. Create it randomly \n",
    "# so that you have some variety in different frequencies of features\n",
    "# Second, extract frequencies of all features present in a plan. Store everything in a dictionary for\n",
    "# faster lookups\n",
    "# Third, look how much time it takes for selecting plans in each round. Need to do that by applying a simple\n",
    "# formulae to each plan - > for each feature f add its frequency count\n",
    "# Fourth, Once a plan is selected, apply the formulae again over all the plans. \n"
   ]
  },
  {
   "cell_type": "code",
   "execution_count": 72,
   "outputs": [],
   "source": [
    "import numpy as np\n",
    "from itertools import combinations, product\n",
    "import time"
   ],
   "metadata": {
    "collapsed": false,
    "pycharm": {
     "name": "#%%\n",
     "is_executing": false
    }
   }
  },
  {
   "cell_type": "code",
   "execution_count": 76,
   "outputs": [
    {
     "name": "stdout",
     "text": [
      "Feature to idx dict created. Total number of features: 25137930\n"
     ],
     "output_type": "stream"
    }
   ],
   "source": [
    "# Creating backlog plans\n",
    "class Param:\n",
    "    # class to hold all the parameters for this script\n",
    "    def __init__(self):\n",
    "        \n",
    "        self.number_of_s1_features = 30\n",
    "        self.min_on_s1_features = 3\n",
    "        self.max_on_s1_features = 10\n",
    "        self.backlog_size = 10000\n",
    "        self.seed = 0\n",
    "        self.max_feature_level = 5\n",
    "        self.feature_to_count = {} # creating dictionary to map s-feature to its index in main plan-feature array\n",
    "        self.number_of_rounds = 6\n",
    "        self.number_of_plans_per_round = 10\n",
    "        \n",
    "        s1_features = list(range(self.number_of_s1_features))\n",
    "        for single_feature_level in np.arange(1, self.max_feature_level + 1):\n",
    "            for single_combination in product(s1_features, repeat=int(single_feature_level)):\n",
    "                feature_string = \"-\".join([str(t1) for t1 in single_combination])\n",
    "                self.feature_to_count[feature_string] = 0 # feature_count becomes its index\n",
    "        print(\"Feature to idx dict created. Total number of features: %d\" % len(self.feature_to_count))\n",
    "\n",
    "param = Param()\n",
    "np.random.seed(param.seed)\n"
   ],
   "metadata": {
    "collapsed": false,
    "pycharm": {
     "name": "#%%\n",
     "is_executing": false
    }
   }
  },
  {
   "cell_type": "code",
   "execution_count": 86,
   "outputs": [
    {
     "name": "stdout",
     "text": [
      "total backlog plans generated 0\n",
      "total backlog plans generated 1000\n",
      "total backlog plans generated 2000\n",
      "total backlog plans generated 3000\n",
      "total backlog plans generated 4000\n",
      "total backlog plans generated 5000\n",
      "total backlog plans generated 6000\n",
      "total backlog plans generated 7000\n",
      "total backlog plans generated 8000\n",
      "total backlog plans generated 9000\n",
      "Backlog generated, features captured and feature frequency computed\n"
     ],
     "output_type": "stream"
    }
   ],
   "source": [
    "backlog = []\n",
    "backlog_to_features_array = []\n",
    "plan_to_features = {}\n",
    "for plan_number in range(param.backlog_size):\n",
    "    r1 = np.random.randint(param.min_on_s1_features, param.max_on_s1_features + 1)\n",
    "    plan_features_present = np.random.choice(np.arange(param.number_of_s1_features), r1, replace = True) # replace is true because a plan can have a repeated feature \n",
    "    backlog.append(plan_features_present) # each plan is being represented by the s-1 features present in it\n",
    "    # create plan vector array which has value 1 for each s-k feature\n",
    "    all_s_k_features = []\n",
    "    for single_feature_level in np.arange(1, param.max_feature_level + 1):\n",
    "        for single_combination in combinations(plan_features_present, single_feature_level):\n",
    "            feature_string = \"-\".join([str(t1) for t1 in single_combination])\n",
    "            param.feature_to_count[feature_string] += 1\n",
    "            all_s_k_features.append(feature_string)\n",
    "    plan_to_features[plan_number] = all_s_k_features\n",
    "print(\"Backlog generated, features captured and feature frequency computed\")"
   ],
   "metadata": {
    "collapsed": false,
    "pycharm": {
     "name": "#%%\n",
     "is_executing": false
    }
   }
  },
  {
   "cell_type": "code",
   "execution_count": 105,
   "outputs": [
    {
     "name": "stdout",
     "text": [
      "Round 1 time taken:\n7.986218043000008\n",
      "Round 2 time taken:\n7.8222373260000495\n",
      "Round 3 time taken:\n7.784362937999958\n",
      "Round 4 time taken:\n7.758068710000316\n",
      "Round 5 time taken:\n7.870916541000042\n",
      "Round 6 time taken:\n7.613118697000118\nTotal features shown: 24020 / 25137930\n"
     ],
     "output_type": "stream"
    }
   ],
   "source": [
    "# now simulate the rounds here, where we loop over the backlog plans, compute a score for each of them\n",
    "# and then pick the plan with the highest score\n",
    "features_shown = set()\n",
    "plans_to_show = []\n",
    "for round_number in range(param.number_of_rounds):\n",
    "    start = time.process_time()    \n",
    "    for plan_number in range(param.number_of_plans_per_round):\n",
    "        scores_list = []\n",
    "        for plan_idx, single_plan in enumerate(backlog):\n",
    "            plan_score = 0\n",
    "            for single_feature in plan_to_features[plan_idx]:\n",
    "                if single_feature not in features_shown:\n",
    "                    plan_score += param.feature_to_count[single_feature]\n",
    "            scores_list.append(plan_score)\n",
    "        selected_plan_idx = np.argmax(scores_list)\n",
    "        selected_plan = backlog[selected_plan_idx]\n",
    "        plans_to_show.append(selected_plan)\n",
    "        features_shown.update(plan_to_features[selected_plan_idx])\n",
    "    print(\"Round %d time taken:\" % (round_number + 1))\n",
    "    print(time.process_time() - start)\n",
    "print(\"Total features shown: %d / %d\" %(len(features_shown), len(param.feature_to_count)))"
   ],
   "metadata": {
    "collapsed": false,
    "pycharm": {
     "name": "#%%\n",
     "is_executing": false
    }
   }
  },
  {
   "cell_type": "code",
   "execution_count": 107,
   "outputs": [
    {
     "data": {
      "text/plain": "('0', 6289)"
     },
     "metadata": {},
     "output_type": "execute_result",
     "execution_count": 107
    }
   ],
   "source": [
    "ftc = list(param.feature_to_count.items())\n",
    "\n",
    "\n"
   ],
   "metadata": {
    "collapsed": false,
    "pycharm": {
     "name": "#%%\n",
     "is_executing": false
    }
   }
  }
 ],
 "metadata": {
  "language_info": {
   "codemirror_mode": {
    "name": "ipython",
    "version": 2
   },
   "file_extension": ".py",
   "mimetype": "text/x-python",
   "name": "python",
   "nbconvert_exporter": "python",
   "pygments_lexer": "ipython2",
   "version": "2.7.6"
  },
  "kernelspec": {
   "name": "pycharm-8345a13b",
   "language": "python",
   "display_name": "PyCharm (Gridworld_Planner)"
  },
  "pycharm": {
   "stem_cell": {
    "cell_type": "raw",
    "source": [],
    "metadata": {
     "collapsed": false
    }
   }
  }
 },
 "nbformat": 4,
 "nbformat_minor": 0
}